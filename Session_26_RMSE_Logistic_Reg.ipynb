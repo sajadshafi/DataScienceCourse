{
 "cells": [
  {
   "cell_type": "markdown",
   "id": "completed-illinois",
   "metadata": {},
   "source": [
    "# Session 26"
   ]
  },
  {
   "cell_type": "markdown",
   "id": "anonymous-lease",
   "metadata": {},
   "source": [
    "#### RMSE\n",
    "\n",
    "#### RSquared and Adj_RSquared"
   ]
  },
  {
   "cell_type": "code",
   "execution_count": null,
   "id": "lesbian-privacy",
   "metadata": {},
   "outputs": [],
   "source": []
  },
  {
   "cell_type": "code",
   "execution_count": null,
   "id": "graphic-composer",
   "metadata": {},
   "outputs": [],
   "source": []
  },
  {
   "cell_type": "markdown",
   "id": "manufactured-cooling",
   "metadata": {},
   "source": [
    "# Logistic Regression"
   ]
  }
 ],
 "metadata": {
  "kernelspec": {
   "display_name": "Python 3",
   "language": "python",
   "name": "python3"
  },
  "language_info": {
   "codemirror_mode": {
    "name": "ipython",
    "version": 3
   },
   "file_extension": ".py",
   "mimetype": "text/x-python",
   "name": "python",
   "nbconvert_exporter": "python",
   "pygments_lexer": "ipython3",
   "version": "3.8.5"
  }
 },
 "nbformat": 4,
 "nbformat_minor": 5
}
