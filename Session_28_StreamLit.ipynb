{
 "cells": [
  {
   "cell_type": "markdown",
   "id": "informed-harvey",
   "metadata": {},
   "source": [
    "# Session 28"
   ]
  },
  {
   "cell_type": "markdown",
   "id": "toxic-ordinance",
   "metadata": {},
   "source": [
    "## StreamLit"
   ]
  },
  {
   "cell_type": "markdown",
   "id": "binding-retro",
   "metadata": {},
   "source": [
    "> Streamlit is an open-source Python library that makes it easy to create and share beautiful, custom web apps for machine learning and data science."
   ]
  },
  {
   "cell_type": "code",
   "execution_count": 3,
   "id": "binding-senator",
   "metadata": {},
   "outputs": [],
   "source": [
    "import streamlit as st\n",
    "import pandas as pd\n",
    "import numpy as np"
   ]
  },
  {
   "cell_type": "code",
   "execution_count": null,
   "id": "informal-yacht",
   "metadata": {},
   "outputs": [],
   "source": []
  },
  {
   "cell_type": "code",
   "execution_count": 4,
   "id": "english-prediction",
   "metadata": {},
   "outputs": [
    {
     "data": {
      "text/plain": [
       "<streamlit.delta_generator.DeltaGenerator at 0x7fd034f136d0>"
      ]
     },
     "execution_count": 4,
     "metadata": {},
     "output_type": "execute_result"
    }
   ],
   "source": [
    "st.title(\"this is first streamlist app\")"
   ]
  }
 ],
 "metadata": {
  "kernelspec": {
   "display_name": "Python 3",
   "language": "python",
   "name": "python3"
  },
  "language_info": {
   "codemirror_mode": {
    "name": "ipython",
    "version": 3
   },
   "file_extension": ".py",
   "mimetype": "text/x-python",
   "name": "python",
   "nbconvert_exporter": "python",
   "pygments_lexer": "ipython3",
   "version": "3.8.5"
  }
 },
 "nbformat": 4,
 "nbformat_minor": 5
}
