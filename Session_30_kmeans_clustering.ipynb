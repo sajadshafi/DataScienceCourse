{
 "cells": [
  {
   "cell_type": "markdown",
   "id": "strategic-strike",
   "metadata": {},
   "source": [
    "# Session 30: K-Means Clustering"
   ]
  },
  {
   "cell_type": "markdown",
   "id": "incorporate-criminal",
   "metadata": {},
   "source": [
    "### Clustering is done based on a particular number named as k"
   ]
  }
 ],
 "metadata": {
  "kernelspec": {
   "display_name": "Python 3",
   "language": "python",
   "name": "python3"
  },
  "language_info": {
   "codemirror_mode": {
    "name": "ipython",
    "version": 3
   },
   "file_extension": ".py",
   "mimetype": "text/x-python",
   "name": "python",
   "nbconvert_exporter": "python",
   "pygments_lexer": "ipython3",
   "version": "3.8.5"
  }
 },
 "nbformat": 4,
 "nbformat_minor": 5
}
